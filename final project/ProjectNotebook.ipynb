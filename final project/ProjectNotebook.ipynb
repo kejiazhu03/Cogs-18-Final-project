{
 "cells": [
  {
   "cell_type": "markdown",
   "metadata": {},
   "source": [
    "# Project Description"
   ]
  },
  {
   "cell_type": "markdown",
   "metadata": {},
   "source": [
    "Animal Crossing is a very popular game across the word now. Players can do a lot of activities in the game, such as catch bugs, build houses, and fishing. \n",
    "\n",
    "As a player who loves fishing and wanting to collect all the species, knowing what months each fishies are available is crutial to me. Therefore, my idea for this project is to create a chatbot that tells user the months that each kinds of fishes are available for both Southern hemisphere and Northern hemisphere.\n",
    "\n",
    "## setup:\n",
    "1. I searched the fishes info chart online and typed all the fishes as keys in a single dictionary and all the months information as values.\n",
    "2. I also mimic the tone that the characters in animal crossing usually use.\n",
    "3. Finally, I listed an outline for what the input and output for the chatbot.\n",
    "        Opening > Ask for list > Ask for fish info > End chat"
   ]
  },
  {
   "cell_type": "code",
   "execution_count": 1,
   "metadata": {
    "scrolled": true
   },
   "outputs": [],
   "source": [
    "from my_module.Animal_crossing_functions import *\n",
    "from my_module.Animal_crossing_test_functions import *"
   ]
  },
  {
   "cell_type": "code",
   "execution_count": 3,
   "metadata": {
    "scrolled": false
   },
   "outputs": [
    {
     "name": "stdout",
     "output_type": "stream",
     "text": [
      "Hello there, Nintendo Direct viewers!\n",
      "I'm Tom Nook.\n",
      "You've no doubt heard about the Deserted Island Gataway Package my company Nook Inc. will offer, hm?\n",
      "Do you want to explore different sepecies of fishes on the island? You can answer Yes or No ~\n",
      "INPUT :\tyes\n",
      "['bitterling', 'pale chub', 'crucian Carp', 'dace', 'carp', 'koi', 'goldfish', 'popeyed goldfish', 'ranchu goldfish', 'killifish', 'crawfish', 'softshelled turtle', 'snapping turtle', 'tadpole', 'frog', 'freshwater goby', 'loach', 'catfish', 'giant snakehead', 'bluegill', 'yellow perch', 'black bass', 'tilapia', 'pike', 'pond smelt', 'sweetfish', 'cherry salmon', 'char', 'golden trout', 'stringfish', 'salmon', 'king salmon', 'mitten crab', 'guppy', 'nibble fish', 'angelfish', 'betta', 'neon tetra', 'rainbowfish', 'piranha', 'arowana', 'dorado', 'gar', 'arapaima', 'aaddled bichir', 'sturgeon', 'sea butterfuly', 'sea horse', 'clown fish', 'surgeonfish', 'butterfly fish', 'napoleonfish', 'zebra turkeyfish', 'blowfish', 'puffer fish', 'anchovy', 'horse mackerel', 'barred knifejaw', 'sea bass', 'red snapper', 'dab', 'olive flounder', 'squid', 'moray eel', 'ribbon eel', 'tuna', 'blue marlin', 'giant trevally', 'mahi mahi', 'ocean sunfish', 'ray', 'saw shark', 'hammerhead shark', 'great white shark', 'whale shark', 'suckerfish', 'football fish', 'oarfish', 'barreleye', 'coelacanth']\n",
      "Which fish do you want to know about? Emm...let me guess...\n",
      "Ugh...I don' know...can you please tell me?\n",
      "INPUT :\tkoi\n",
      "Ah! here is it's information\n",
      "Northern Hemisphere: All year around, Southern Hemisphere: All year around\n",
      "Is there anything eles I can help you with... maybe learn about another fish species?\n",
      "You can leave at any time ~ just say quit.\n",
      "INPUT :\tyellow perch\n",
      "Ah! here is it's information\n",
      "Northern Hemisphere: Jan, Feb, Mar, Oct, Nov, Dec, Southern Hemisphere: Apr, May, Jun, Jul, Aug, Sep\n",
      "Is there anything eles I can help you with... maybe learn about another fish species?\n",
      "You can leave at any time ~ just say quit.\n",
      "INPUT :\tquit\n"
     ]
    },
    {
     "data": {
      "text/plain": [
       "'Bye! Enjoy your life on the island ~'"
      ]
     },
     "execution_count": 3,
     "metadata": {},
     "output_type": "execute_result"
    }
   ],
   "source": [
    "animal_crossing_fishing()"
   ]
  },
  {
   "cell_type": "code",
   "execution_count": 4,
   "metadata": {},
   "outputs": [],
   "source": [
    "def test_opening():\n",
    "    \"\"\"Tests opening function\"\"\"\n",
    "    x = opening(\"ss\")\n",
    "    return x\n",
    "\n",
    "def test_fish_lst():\n",
    "    \"\"\"Tests fish_lst function\"\"\"\n",
    "    assert fish_lst('Yes') == True\n",
    "    assert isinstance(fish_lst('Yes'), bool)\n",
    "    assert callable(fish_lst)\n",
    "    \n",
    "def test_end_chat():\n",
    "    \"\"\"Tests end_chat function\"\"\"\n",
    "    assert end_chat('quit') == True\n",
    "    assert isinstance(end_chat('quit'), bool)\n",
    "    assert callable(end_chat)"
   ]
  },
  {
   "cell_type": "markdown",
   "metadata": {},
   "source": [
    "#### Extra Credit (*optional*)\n",
    "\n",
    "Replace all of this text with a brief explanation (~3 sentences) of: \n",
    "I have zero experience with pythos. While doing the assignments and the exames, I feel pretty confident. However, while doing the project I got lost and stucked for a long time, it's pretty hard to get a clear logic. Nonetheless, I pretty enjoy working on the project. It's a enjoyable challenge.\n",
    "\n",
    "\n",
    "\n",
    "\n"
   ]
  }
 ],
 "metadata": {
  "kernelspec": {
   "display_name": "Python 3",
   "language": "python",
   "name": "python3"
  },
  "language_info": {
   "codemirror_mode": {
    "name": "ipython",
    "version": 3
   },
   "file_extension": ".py",
   "mimetype": "text/x-python",
   "name": "python",
   "nbconvert_exporter": "python",
   "pygments_lexer": "ipython3",
   "version": "3.6.7"
  }
 },
 "nbformat": 4,
 "nbformat_minor": 2
}
